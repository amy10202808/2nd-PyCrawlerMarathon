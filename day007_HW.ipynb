{
 "cells": [
  {
   "cell_type": "code",
   "execution_count": 4,
   "metadata": {},
   "outputs": [
    {
     "data": {
      "text/plain": [
       "'\\n在HTTP協議裏，Web端與Server端進行通訊是使用\"明文\"的方式，因為HTTP協議本身並不具備加密的功能，所以無法對請求端以及響應端的內容進行加密。\\nHTTP協議不管是web端還是server端都不會對雙方的身份來進行驗證，因此也無法驗證內文的完整性，所以內容很有可能被竊聽或是竄改\\n'"
      ]
     },
     "execution_count": 4,
     "metadata": {},
     "output_type": "execute_result"
    }
   ],
   "source": [
    "'''\n",
    "在HTTP協議裏，Web端與Server端進行通訊是使用\"明文\"的方式，因為HTTP協議本身並不具備加密的功能，所以無法對請求端以及響應端的內容進行加密。\n",
    "HTTP協議不管是web端還是server端都不會對雙方的身份來進行驗證，因此也無法驗證內文的完整性，所以內容很有可能被竊聽或是竄改\n",
    "'''"
   ]
  },
  {
   "cell_type": "code",
   "execution_count": 5,
   "metadata": {},
   "outputs": [
    {
     "data": {
      "text/plain": [
       "'\\nJavaScript是一種腳本語言，換句話說，它通過網站和應用程序的自動化流程令用戶做使用時更輕鬆。 JavaScript最初是作為一種前端語言出現的，它為瀏覽器提供了動態功能，而這些功能是HTML和CSS無法實現的。 在2009年Node.js作為後端語言出現後，開發人員便可以使用JavaScript對前端和服務器端進行編程，JavaScript的普及率大增。\\n另一方面，Python是一種物件導向程式設計(Object-oriented programming)的編程語言。 這種編碼語言允許程序員使用虛擬構建塊來構建應用程序和網站。Python透過物件模型為編程員提供清晰結構和更真實動態來降低複雜性。\\n'"
      ]
     },
     "execution_count": 5,
     "metadata": {},
     "output_type": "execute_result"
    }
   ],
   "source": [
    "'''\n",
    "JavaScript是一種腳本語言，換句話說，它通過網站和應用程序的自動化流程令用戶做使用時更輕鬆。 JavaScript最初是作為一種前端語言出現的，它為瀏覽器提供了動態功能，而這些功能是HTML和CSS無法實現的。 在2009年Node.js作為後端語言出現後，開發人員便可以使用JavaScript對前端和服務器端進行編程，JavaScript的普及率大增。\n",
    "另一方面，Python是一種物件導向程式設計(Object-oriented programming)的編程語言。 這種編碼語言允許程序員使用虛擬構建塊來構建應用程序和網站。Python透過物件模型為編程員提供清晰結構和更真實動態來降低複雜性。\n",
    "'''"
   ]
  }
 ],
 "metadata": {
  "kernelspec": {
   "display_name": "Python 3",
   "language": "python",
   "name": "python3"
  },
  "language_info": {
   "codemirror_mode": {
    "name": "ipython",
    "version": 3
   },
   "file_extension": ".py",
   "mimetype": "text/x-python",
   "name": "python",
   "nbconvert_exporter": "python",
   "pygments_lexer": "ipython3",
   "version": "3.7.4"
  }
 },
 "nbformat": 4,
 "nbformat_minor": 2
}
