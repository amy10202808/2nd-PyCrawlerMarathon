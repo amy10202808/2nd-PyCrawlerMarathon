{
 "cells": [
  {
   "cell_type": "code",
   "execution_count": 1,
   "metadata": {},
   "outputs": [
    {
     "name": "stdout",
     "output_type": "stream",
     "text": [
      "一次會回傳30筆資料,每一筆資料包含'id', 'title', 'excerpt', 'anonymousSchool', 'anonymousDepartment', 'pinned', 'forumId', 'replyId', 'createdAt', 'updatedAt', 'commentCount', 'likeCount', 'withNickname', 'tags', 'topics', 'meta', 'forumName', 'forumAlias', 'nsfw', 'gender', 'school', 'replyTitle', 'mediaMeta', 'reactions', 'hidden', 'customStyle', 'isSuspiciousAccount', 'layout', 'withImages', 'withVideos', 'media', 'reportReasonText', 'postAvatar'這些欄位\n"
     ]
    }
   ],
   "source": [
    "# 1. 這個 API 一次會回傳幾筆資料？每一筆資料包含哪些欄位\n",
    "import requests,json\n",
    "r = requests.get(\"https://www.dcard.tw/_api/forums/pet/posts?popular=true\")\n",
    "response = r.text\n",
    "data = json.loads(response)\n",
    "title = list()\n",
    "for d in data:\n",
    "    title.append(d['title'])\n",
    "#可透過d.keys()函式印出所有key  type是資料型態\n",
    "k = str(d.keys()).replace(\"dict_keys([\",\"\").replace(\"])\",\"\")\n",
    "print('一次會回傳',len(title),'筆資料,每一筆資料包含',k,'這些欄位',sep = '')"
   ]
  },
  {
   "cell_type": "code",
   "execution_count": 2,
   "metadata": {},
   "outputs": [
    {
     "name": "stdout",
     "output_type": "stream",
     "text": [
      "第 1 筆資料：\n",
      " 標題： 我家柯基被比特犬咬斷下巴... 貼文時間： 2020-04-18T05:39:55.913Z 留言人數： 667 按讚人數： 8157\n",
      "第 2 筆資料：\n",
      " 標題： 我只是想曬柯基寶寶～（圖多） 貼文時間： 2020-04-18T10:05:16.103Z 留言人數： 21 按讚人數： 474\n",
      "第 3 筆資料：\n",
      " 標題： #尋狗啟示 請大家幫我推上去🙏🏻 貼文時間： 2020-04-18T09:07:18.406Z 留言人數： 8 按讚人數： 118\n",
      "第 4 筆資料：\n",
      " 標題： 在學校倉庫撿到的奶貓🐈🐱Part2. 貼文時間： 2020-04-18T07:31:02.749Z 留言人數： 8 按讚人數： 83\n",
      "第 5 筆資料：\n",
      " 標題： 寵物真的有感情 貼文時間： 2020-04-18T18:28:59.967Z 留言人數： 0 按讚人數： 57\n",
      "第 6 筆資料：\n",
      " 標題： 我是米漿我愛亂尿尿🐶 貼文時間： 2020-04-17T20:15:13.744Z 留言人數： 3 按讚人數： 53\n",
      "第 7 筆資料：\n",
      " 標題： 堅持不喝掉最後一口水的黃大扣 貼文時間： 2020-04-18T12:33:31.936Z 留言人數： 0 按讚人數： 39\n",
      "第 8 筆資料：\n",
      " 標題： 抱枕狗🐶 貼文時間： 2020-04-18T15:45:06.724Z 留言人數： 3 按讚人數： 35\n",
      "第 9 筆資料：\n",
      " 標題： 請！問！東！海 ！的！同！學！ 貼文時間： 2020-04-18T16:15:28.851Z 留言人數： 19 按讚人數： 23\n",
      "第 10 筆資料：\n",
      " 標題： 原來吉娃娃是防疫高手😂 貼文時間： 2020-04-18T11:03:14.823Z 留言人數： 3 按讚人數： 23\n",
      "第 11 筆資料：\n",
      " 標題： 幫貓咪做一個紙箱國度！ 貼文時間： 2020-04-18T07:18:56.550Z 留言人數： 1 按讚人數： 20\n",
      "第 12 筆資料：\n",
      " 標題： 如果是爬蟲，你應該去買（文長慎入 貼文時間： 2020-04-18T14:12:38.283Z 留言人數： 3 按讚人數： 16\n",
      "第 13 筆資料：\n",
      " 標題： 我要代替月亮懲罰你~ 貼文時間： 2020-04-18T08:56:06.960Z 留言人數： 15 按讚人數： 16\n",
      "第 14 筆資料：\n",
      " 標題： 壞掉的博美 貼文時間： 2020-04-18T07:06:44.129Z 留言人數： 0 按讚人數： 16\n",
      "第 15 筆資料：\n",
      " 標題： 溫和的寶貝蛇蛇 貼文時間： 2020-04-18T14:57:19.667Z 留言人數： 11 按讚人數： 14\n",
      "第 16 筆資料：\n",
      " 標題： 彰化市貓咪走失 貼文時間： 2020-04-18T04:30:06.065Z 留言人數： 3 按讚人數： 12\n",
      "第 17 筆資料：\n",
      " 標題： 白眼柴 貼文時間： 2020-04-18T19:13:35.918Z 留言人數： 0 按讚人數： 11\n",
      "第 18 筆資料：\n",
      " 標題： 宜蘭長毛臘腸走失 貼文時間： 2020-04-18T10:34:54.479Z 留言人數： 0 按讚人數： 10\n",
      "第 19 筆資料：\n",
      " 標題： 想曬曬我家弟弟 貼文時間： 2020-04-18T18:46:50.516Z 留言人數： 0 按讚人數： 9\n",
      "第 20 筆資料：\n",
      " 標題： 看看我家的狗 完美呈現了*累的跟狗一樣*這句話 貼文時間： 2020-04-18T06:38:53.141Z 留言人數： 1 按讚人數： 9\n",
      "第 21 筆資料：\n",
      " 標題： 越啃越快🤣 貼文時間： 2020-04-18T17:25:48.079Z 留言人數： 0 按讚人數： 8\n",
      "第 22 筆資料：\n",
      " 標題： 柴犬-米修與歐歐 貼文時間： 2020-04-18T13:44:36.479Z 留言人數： 0 按讚人數： 7\n",
      "第 23 筆資料：\n",
      " 標題： 同一隻？ 貼文時間： 2020-04-19T04:15:16.461Z 留言人數： 0 按讚人數： 6\n",
      "第 24 筆資料：\n",
      " 標題： 曬魚文 貼文時間： 2020-04-18T00:33:10.878Z 留言人數： 1 按讚人數： 6\n",
      "第 25 筆資料：\n",
      " 標題： 這是誰家的鼠鼠！！通緝中 貼文時間： 2020-04-19T05:30:51.986Z 留言人數： 2 按讚人數： 5\n",
      "第 26 筆資料：\n",
      " 標題： 寵物咬傷他人寵物 貼文時間： 2020-04-19T03:01:17.462Z 留言人數： 0 按讚人數： 5\n",
      "第 27 筆資料：\n",
      " 標題： 台南市貓咪走失 貼文時間： 2020-04-18T20:09:04.264Z 留言人數： 0 按讚人數： 5\n",
      "第 28 筆資料：\n",
      " 標題： 五告野小 貼文時間： 2020-04-18T18:16:26.529Z 留言人數： 0 按讚人數： 5\n",
      "第 29 筆資料：\n",
      " 標題： #問 倉鼠的家都放了什麼 貼文時間： 2020-04-18T08:46:44.016Z 留言人數： 8 按讚人數： 5\n",
      "第 30 筆資料：\n",
      " 標題： 黃金鼠吃小麥草 有影片 貼文時間： 2020-04-19T04:12:25.422Z 留言人數： 0 按讚人數： 4\n"
     ]
    }
   ],
   "source": [
    "# 2. 取出每一筆資料的「標題」、「貼文時間」、「留言人數」、「按讚人數」\n",
    "title = list()\n",
    "createdAt = list()\n",
    "commentCount = list()\n",
    "likeCount = list()\n",
    "i = 0\n",
    "for d in data:\n",
    "    i = i+1\n",
    "    title.append(d['title'])\n",
    "    createdAt.append(d['createdAt'])\n",
    "    commentCount.append(d['commentCount'])\n",
    "    likeCount.append(d['likeCount'])\n",
    "    print('第',i,'筆資料：\\n',\"標題：\",d['title'],'貼文時間：',d['createdAt'],'留言人數：',d['commentCount'],'按讚人數：',d['likeCount'])\n",
    "\n"
   ]
  },
  {
   "cell_type": "code",
   "execution_count": 3,
   "metadata": {},
   "outputs": [
    {
     "name": "stdout",
     "output_type": "stream",
     "text": [
      "熱門文章：\n",
      "平均留言人數：25.9，平均案讚人數：308.37\n",
      "非熱門文章：\n",
      "平均留言人數：0，平均案讚人數：4\n"
     ]
    }
   ],
   "source": [
    "from statistics import mean\n",
    "P = requests.get(\"https://www.dcard.tw/_api/forums/pet/posts?popular=true\")\n",
    "NP = requests.get(\"https://www.dcard.tw/_api/forums/pet/posts?popular=false\")\n",
    "popular = json.loads(P.text)\n",
    "notpopular = json.loads(NP.text)\n",
    "pcomment = list()\n",
    "npcomment = list()\n",
    "plove = list()\n",
    "nplove = list()\n",
    "for i in popular:\n",
    "    pcomment.append(i['commentCount'])\n",
    "    plove.append(i['likeCount'])\n",
    "for b in notpopular:\n",
    "    npcomment.append(i['commentCount'])\n",
    "    nplove.append(i['likeCount'])\n",
    "print('熱門文章：','\\n','平均留言人數：',round(mean(pcomment),2),'，平均案讚人數：',round(mean(plove),2),'\\n','非熱門文章：','\\n','平均留言人數：',round(mean(npcomment),2),'，平均案讚人數：',round(mean(nplove),2),sep = '')"
   ]
  },
  {
   "cell_type": "code",
   "execution_count": null,
   "metadata": {},
   "outputs": [],
   "source": []
  }
 ],
 "metadata": {
  "kernelspec": {
   "display_name": "Python 3",
   "language": "python",
   "name": "python3"
  },
  "language_info": {
   "codemirror_mode": {
    "name": "ipython",
    "version": 3
   },
   "file_extension": ".py",
   "mimetype": "text/x-python",
   "name": "python",
   "nbconvert_exporter": "python",
   "pygments_lexer": "ipython3",
   "version": "3.7.4"
  }
 },
 "nbformat": 4,
 "nbformat_minor": 2
}
